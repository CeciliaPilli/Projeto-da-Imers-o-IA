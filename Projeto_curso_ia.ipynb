{
  "nbformat": 4,
  "nbformat_minor": 0,
  "metadata": {
    "colab": {
      "provenance": [],
      "authorship_tag": "ABX9TyPTAR3iMcciasz6nPTpZE4R",
      "include_colab_link": true
    },
    "kernelspec": {
      "name": "python3",
      "display_name": "Python 3"
    },
    "language_info": {
      "name": "python"
    }
  },
  "cells": [
    {
      "cell_type": "markdown",
      "metadata": {
        "id": "view-in-github",
        "colab_type": "text"
      },
      "source": [
        "<a href=\"https://colab.research.google.com/github/CeciliaPilli/Projeto-da-Imers-o-IA/blob/main/Projeto_curso_ia.ipynb\" target=\"_parent\"><img src=\"https://colab.research.google.com/assets/colab-badge.svg\" alt=\"Open In Colab\"/></a>"
      ]
    },
    {
      "cell_type": "markdown",
      "source": [
        "***#Instalando o SDK do Google***"
      ],
      "metadata": {
        "id": "p8C9flkjV1Gl"
      }
    },
    {
      "cell_type": "code",
      "execution_count": 1,
      "metadata": {
        "id": "RSpExEl7M_0g"
      },
      "outputs": [],
      "source": [
        "!pip install -q -U google-generativeai"
      ]
    },
    {
      "cell_type": "markdown",
      "source": [
        "***#Configurações iniciais***"
      ],
      "metadata": {
        "id": "mBaKIjezNiGI"
      }
    },
    {
      "cell_type": "code",
      "source": [
        "# Import the Python SDK\n",
        "import google.generativeai as genai\n",
        "# Used to securely store your API key\n",
        "from google.colab import userdata\n",
        "api_key = userdata.get('SECRET_KEY')\n",
        "genai.configure(api_key=api_key)"
      ],
      "metadata": {
        "id": "p1V1gYDeOZYX"
      },
      "execution_count": 2,
      "outputs": []
    },
    {
      "cell_type": "code",
      "source": [
        "for m in genai.list_models():\n",
        "  if 'generateContent' in m.supported_generation_methods:\n",
        "    print(m.name)"
      ],
      "metadata": {
        "colab": {
          "base_uri": "https://localhost:8080/",
          "height": 139
        },
        "id": "G1TjBkrlPu5_",
        "outputId": "fdcede3c-90ae-480d-b32f-415587638016"
      },
      "execution_count": 3,
      "outputs": [
        {
          "output_type": "stream",
          "name": "stdout",
          "text": [
            "models/gemini-1.0-pro\n",
            "models/gemini-1.0-pro-001\n",
            "models/gemini-1.0-pro-latest\n",
            "models/gemini-1.0-pro-vision-latest\n",
            "models/gemini-1.5-pro-latest\n",
            "models/gemini-pro\n",
            "models/gemini-pro-vision\n"
          ]
        }
      ]
    },
    {
      "cell_type": "code",
      "source": [
        "GenerationConfig = {\"candidate_count\": 1,\n",
        "                    \"temperature\": 0.5}"
      ],
      "metadata": {
        "id": "AL7fDT-8T9zA"
      },
      "execution_count": 4,
      "outputs": []
    },
    {
      "cell_type": "code",
      "source": [
        "safety_settings={\n",
        "    'HATE': 'BLOCK_NONE',\n",
        "    'HARASSMENT': 'BLOCK_NONE',\n",
        "    'SEXUAL' : 'BLOCK_NONE',\n",
        "    'DANGEROUS' : 'BLOCK_NONE'\n",
        "    }"
      ],
      "metadata": {
        "id": "korMI_HiV28N"
      },
      "execution_count": 5,
      "outputs": []
    },
    {
      "cell_type": "markdown",
      "source": [
        "***#Inicializando o modelo***"
      ],
      "metadata": {
        "id": "CaGmWyIaWdGW"
      }
    },
    {
      "cell_type": "code",
      "source": [
        "model = genai.GenerativeModel(model_name='gemini-1.0-pro',\n",
        "                                  generation_config=GenerationConfig,\n",
        "                                  safety_settings=safety_settings,)"
      ],
      "metadata": {
        "id": "ZNrrQhKoWki_"
      },
      "execution_count": 6,
      "outputs": []
    },
    {
      "cell_type": "code",
      "source": [
        "chat = model.start_chat(history=[])"
      ],
      "metadata": {
        "id": "uxe_SN2zZdVH"
      },
      "execution_count": 7,
      "outputs": []
    },
    {
      "cell_type": "markdown",
      "source": [
        "# **Conte estória criativa e lúdica para criança dormir:**"
      ],
      "metadata": {
        "id": "UCngc0mqUxe-"
      }
    },
    {
      "cell_type": "code",
      "source": [
        "prompt = \"Conte estória criativa e lúdica para criança dormir:\"\n",
        "response = model.generate_content(prompt)\n",
        "print(response.text)\n",
        "#Melhorando a visualização\n",
        "import textwrap\n",
        "from IPython.display import display\n",
        "from IPython.display import Markdown\n",
        "\n",
        "def to_markdown(text):\n",
        "  text = text.replace('•', '  *')\n",
        "  return Markdown(textwrap.indent(text, '> ', predicate=lambda _: True))\n",
        "\n",
        "#Imprimindo o histórico\n",
        "for message in chat.history:\n",
        "  display(to_markdown(f'**{message.role}**: {message.parts[0].text}'))\n",
        "  print('-------------------------------------------')"
      ],
      "metadata": {
        "colab": {
          "base_uri": "https://localhost:8080/",
          "height": 402
        },
        "id": "UNGoqNktAFXa",
        "outputId": "6315bb80-5a95-459d-b6dd-5f54d107d597"
      },
      "execution_count": 20,
      "outputs": [
        {
          "output_type": "stream",
          "name": "stdout",
          "text": [
            "No reino encantado de Sonolência, onde as estrelas cintilavam como vaga-lumes e a lua sorria como uma mãe, vivia uma menina chamada Luna.\n",
            "\n",
            "Uma noite, enquanto Luna se preparava para dormir, uma pequena fada chamada Brilho voou até sua janela. Brilho tinha asas de seda e um vestido feito de pétalas de rosa.\n",
            "\n",
            "\"Olá, Luna\", disse Brilho. \"Estou aqui para te levar a uma aventura mágica.\"\n",
            "\n",
            "Luna ficou surpresa e encantada. Ela seguiu Brilho para fora da janela e subiu em suas costas. Juntas, elas voaram para o alto, acima das nuvens fofas como algodão doce.\n",
            "\n",
            "Elas passaram por castelos de cristal e florestas de doces, onde árvores de chocolate cresciam e rios de limonada fluíam. Luna riu e brincou com Brilho, sentindo-se como se estivesse em um sonho.\n",
            "\n",
            "Finalmente, elas chegaram a um vale secreto, onde um arco-íris se estendia pelo céu. Brilho pousou em uma flor gigante, e Luna desceu de suas costas.\n",
            "\n",
            "\"Este é o Vale dos Sonhos\", sussurrou Brilho. \"Aqui, você pode criar qualquer sonho que desejar.\"\n",
            "\n",
            "Luna fechou os olhos e sonhou com um mundo cheio de unicórnios dançantes, princesas gentis e heróis corajosos. Ela sonhou com aventuras emocionantes e terras distantes.\n",
            "\n",
            "Quando Luna abriu os olhos, ela estava de volta em sua cama. O sol estava nascendo, e os pássaros cantavam do lado de fora de sua janela.\n",
            "\n",
            "\"Obrigada, Brilho\", disse Luna. \"Essa foi a aventura mais mágica de todas.\"\n",
            "\n",
            "E assim, Luna adormeceu, seu coração cheio de sonhos doces e memórias felizes.\n"
          ]
        }
      ]
    }
  ]
}